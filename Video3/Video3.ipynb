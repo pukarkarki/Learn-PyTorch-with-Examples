{
 "cells": [
  {
   "cell_type": "code",
   "execution_count": 1,
   "id": "edd9eee9",
   "metadata": {},
   "outputs": [
    {
     "name": "stdout",
     "output_type": "stream",
     "text": [
      "2.7.0\n"
     ]
    }
   ],
   "source": [
    "import torch\n",
    "print(torch.__version__)"
   ]
  },
  {
   "cell_type": "code",
   "execution_count": 2,
   "id": "4cd879d4",
   "metadata": {},
   "outputs": [],
   "source": [
    "import numpy as np \n",
    "import pandas as pd\n",
    "from sklearn.model_selection import train_test_split\n",
    "from sklearn.metrics import accuracy_score\n",
    "import matplotlib.pyplot as plt "
   ]
  },
  {
   "cell_type": "code",
   "execution_count": 3,
   "id": "c3df9f6d",
   "metadata": {},
   "outputs": [
    {
     "name": "stdout",
     "output_type": "stream",
     "text": [
      "<class 'pandas.core.frame.DataFrame'>\n",
      "RangeIndex: 150 entries, 0 to 149\n",
      "Data columns (total 5 columns):\n",
      " #   Column         Non-Null Count  Dtype  \n",
      "---  ------         --------------  -----  \n",
      " 0   SepalLengthCm  150 non-null    float64\n",
      " 1   SepalWidthCm   150 non-null    float64\n",
      " 2   PetalLengthCm  150 non-null    float64\n",
      " 3   PetalWidthCm   150 non-null    float64\n",
      " 4   Species        150 non-null    object \n",
      "dtypes: float64(4), object(1)\n",
      "memory usage: 6.0+ KB\n"
     ]
    }
   ],
   "source": [
    "df = pd.read_csv('data/iris.csv')\n",
    "df.info()"
   ]
  },
  {
   "cell_type": "code",
   "execution_count": 4,
   "id": "a1c51c74",
   "metadata": {},
   "outputs": [
    {
     "data": {
      "text/html": [
       "<div>\n",
       "<style scoped>\n",
       "    .dataframe tbody tr th:only-of-type {\n",
       "        vertical-align: middle;\n",
       "    }\n",
       "\n",
       "    .dataframe tbody tr th {\n",
       "        vertical-align: top;\n",
       "    }\n",
       "\n",
       "    .dataframe thead th {\n",
       "        text-align: right;\n",
       "    }\n",
       "</style>\n",
       "<table border=\"1\" class=\"dataframe\">\n",
       "  <thead>\n",
       "    <tr style=\"text-align: right;\">\n",
       "      <th></th>\n",
       "      <th>SepalLengthCm</th>\n",
       "      <th>SepalWidthCm</th>\n",
       "      <th>PetalLengthCm</th>\n",
       "      <th>PetalWidthCm</th>\n",
       "    </tr>\n",
       "  </thead>\n",
       "  <tbody>\n",
       "    <tr>\n",
       "      <th>count</th>\n",
       "      <td>150.000000</td>\n",
       "      <td>150.000000</td>\n",
       "      <td>150.000000</td>\n",
       "      <td>150.000000</td>\n",
       "    </tr>\n",
       "    <tr>\n",
       "      <th>mean</th>\n",
       "      <td>5.843333</td>\n",
       "      <td>3.054000</td>\n",
       "      <td>3.758667</td>\n",
       "      <td>1.198667</td>\n",
       "    </tr>\n",
       "    <tr>\n",
       "      <th>std</th>\n",
       "      <td>0.828066</td>\n",
       "      <td>0.433594</td>\n",
       "      <td>1.764420</td>\n",
       "      <td>0.763161</td>\n",
       "    </tr>\n",
       "    <tr>\n",
       "      <th>min</th>\n",
       "      <td>4.300000</td>\n",
       "      <td>2.000000</td>\n",
       "      <td>1.000000</td>\n",
       "      <td>0.100000</td>\n",
       "    </tr>\n",
       "    <tr>\n",
       "      <th>25%</th>\n",
       "      <td>5.100000</td>\n",
       "      <td>2.800000</td>\n",
       "      <td>1.600000</td>\n",
       "      <td>0.300000</td>\n",
       "    </tr>\n",
       "    <tr>\n",
       "      <th>50%</th>\n",
       "      <td>5.800000</td>\n",
       "      <td>3.000000</td>\n",
       "      <td>4.350000</td>\n",
       "      <td>1.300000</td>\n",
       "    </tr>\n",
       "    <tr>\n",
       "      <th>75%</th>\n",
       "      <td>6.400000</td>\n",
       "      <td>3.300000</td>\n",
       "      <td>5.100000</td>\n",
       "      <td>1.800000</td>\n",
       "    </tr>\n",
       "    <tr>\n",
       "      <th>max</th>\n",
       "      <td>7.900000</td>\n",
       "      <td>4.400000</td>\n",
       "      <td>6.900000</td>\n",
       "      <td>2.500000</td>\n",
       "    </tr>\n",
       "  </tbody>\n",
       "</table>\n",
       "</div>"
      ],
      "text/plain": [
       "       SepalLengthCm  SepalWidthCm  PetalLengthCm  PetalWidthCm\n",
       "count     150.000000    150.000000     150.000000    150.000000\n",
       "mean        5.843333      3.054000       3.758667      1.198667\n",
       "std         0.828066      0.433594       1.764420      0.763161\n",
       "min         4.300000      2.000000       1.000000      0.100000\n",
       "25%         5.100000      2.800000       1.600000      0.300000\n",
       "50%         5.800000      3.000000       4.350000      1.300000\n",
       "75%         6.400000      3.300000       5.100000      1.800000\n",
       "max         7.900000      4.400000       6.900000      2.500000"
      ]
     },
     "execution_count": 4,
     "metadata": {},
     "output_type": "execute_result"
    }
   ],
   "source": [
    "# View the description  of the dataframe\n",
    "df.describe()"
   ]
  },
  {
   "cell_type": "code",
   "execution_count": 5,
   "id": "426267d2",
   "metadata": {},
   "outputs": [
    {
     "data": {
      "text/html": [
       "<div>\n",
       "<style scoped>\n",
       "    .dataframe tbody tr th:only-of-type {\n",
       "        vertical-align: middle;\n",
       "    }\n",
       "\n",
       "    .dataframe tbody tr th {\n",
       "        vertical-align: top;\n",
       "    }\n",
       "\n",
       "    .dataframe thead th {\n",
       "        text-align: right;\n",
       "    }\n",
       "</style>\n",
       "<table border=\"1\" class=\"dataframe\">\n",
       "  <thead>\n",
       "    <tr style=\"text-align: right;\">\n",
       "      <th></th>\n",
       "      <th>SepalLengthCm</th>\n",
       "      <th>SepalWidthCm</th>\n",
       "      <th>PetalLengthCm</th>\n",
       "      <th>PetalWidthCm</th>\n",
       "      <th>Species</th>\n",
       "    </tr>\n",
       "  </thead>\n",
       "  <tbody>\n",
       "    <tr>\n",
       "      <th>0</th>\n",
       "      <td>5.1</td>\n",
       "      <td>3.5</td>\n",
       "      <td>1.4</td>\n",
       "      <td>0.2</td>\n",
       "      <td>Iris-setosa</td>\n",
       "    </tr>\n",
       "    <tr>\n",
       "      <th>1</th>\n",
       "      <td>4.9</td>\n",
       "      <td>3.0</td>\n",
       "      <td>1.4</td>\n",
       "      <td>0.2</td>\n",
       "      <td>Iris-setosa</td>\n",
       "    </tr>\n",
       "    <tr>\n",
       "      <th>2</th>\n",
       "      <td>4.7</td>\n",
       "      <td>3.2</td>\n",
       "      <td>1.3</td>\n",
       "      <td>0.2</td>\n",
       "      <td>Iris-setosa</td>\n",
       "    </tr>\n",
       "    <tr>\n",
       "      <th>3</th>\n",
       "      <td>4.6</td>\n",
       "      <td>3.1</td>\n",
       "      <td>1.5</td>\n",
       "      <td>0.2</td>\n",
       "      <td>Iris-setosa</td>\n",
       "    </tr>\n",
       "    <tr>\n",
       "      <th>4</th>\n",
       "      <td>5.0</td>\n",
       "      <td>3.6</td>\n",
       "      <td>1.4</td>\n",
       "      <td>0.2</td>\n",
       "      <td>Iris-setosa</td>\n",
       "    </tr>\n",
       "  </tbody>\n",
       "</table>\n",
       "</div>"
      ],
      "text/plain": [
       "   SepalLengthCm  SepalWidthCm  PetalLengthCm  PetalWidthCm      Species\n",
       "0            5.1           3.5            1.4           0.2  Iris-setosa\n",
       "1            4.9           3.0            1.4           0.2  Iris-setosa\n",
       "2            4.7           3.2            1.3           0.2  Iris-setosa\n",
       "3            4.6           3.1            1.5           0.2  Iris-setosa\n",
       "4            5.0           3.6            1.4           0.2  Iris-setosa"
      ]
     },
     "execution_count": 5,
     "metadata": {},
     "output_type": "execute_result"
    }
   ],
   "source": [
    "# View the top 5 data item\n",
    "df.head()"
   ]
  },
  {
   "cell_type": "code",
   "execution_count": 6,
   "id": "519362f3",
   "metadata": {},
   "outputs": [
    {
     "data": {
      "text/plain": [
       "array(['Iris-setosa', 'Iris-versicolor', 'Iris-virginica'], dtype=object)"
      ]
     },
     "execution_count": 6,
     "metadata": {},
     "output_type": "execute_result"
    }
   ],
   "source": [
    "df['Species'].unique()"
   ]
  },
  {
   "cell_type": "code",
   "execution_count": 7,
   "id": "56ca6df6",
   "metadata": {},
   "outputs": [],
   "source": [
    "X = df.drop(columns=['Species'])\n",
    "y = df['Species'].map({'Iris-setosa':0, 'Iris-versicolor':1, 'Iris-virginica':2})"
   ]
  },
  {
   "cell_type": "code",
   "execution_count": 8,
   "id": "9c812182",
   "metadata": {},
   "outputs": [],
   "source": [
    "X = torch.Tensor(X.values).type(torch.float)\n",
    "y = torch.Tensor(y.values).type(torch.float)"
   ]
  },
  {
   "cell_type": "code",
   "execution_count": 9,
   "id": "35476429",
   "metadata": {},
   "outputs": [
    {
     "data": {
      "text/plain": [
       "torch.Tensor"
      ]
     },
     "execution_count": 9,
     "metadata": {},
     "output_type": "execute_result"
    }
   ],
   "source": [
    "type(X)"
   ]
  },
  {
   "cell_type": "code",
   "execution_count": 10,
   "id": "f4d95fd1",
   "metadata": {},
   "outputs": [
    {
     "data": {
      "text/plain": [
       "torch.Tensor"
      ]
     },
     "execution_count": 10,
     "metadata": {},
     "output_type": "execute_result"
    }
   ],
   "source": [
    "type(y)"
   ]
  },
  {
   "cell_type": "code",
   "execution_count": 11,
   "id": "ca077f7d",
   "metadata": {},
   "outputs": [],
   "source": [
    "X_train, X_test, y_train, y_test = train_test_split(X, y, test_size=0.2, random_state=42)"
   ]
  },
  {
   "cell_type": "code",
   "execution_count": 12,
   "id": "36f15a3b",
   "metadata": {},
   "outputs": [
    {
     "name": "stdout",
     "output_type": "stream",
     "text": [
      "Shape of X_train and y_train torch.Size([120, 4]) torch.Size([120])\n",
      "Shape of X_test and y_test torch.Size([30, 4]) torch.Size([30])\n"
     ]
    }
   ],
   "source": [
    "print(f\"Shape of X_train and y_train {X_train.shape} {y_train.shape}\")\n",
    "print(f\"Shape of X_test and y_test {X_test.shape} {y_test.shape}\")"
   ]
  },
  {
   "cell_type": "code",
   "execution_count": 13,
   "id": "116e1b04",
   "metadata": {},
   "outputs": [
    {
     "name": "stdout",
     "output_type": "stream",
     "text": [
      "Using device = mps\n"
     ]
    }
   ],
   "source": [
    "if torch.cuda.is_available():\n",
    "    device = \"cuda\"\n",
    "elif torch.backends.mps.is_available():\n",
    "    device = \"mps\"\n",
    "else:\n",
    "    device = \"cpu\"\n",
    "print(f\"Using device = {device}\")"
   ]
  },
  {
   "cell_type": "code",
   "execution_count": 14,
   "id": "e7766404",
   "metadata": {},
   "outputs": [],
   "source": [
    "from torch import nn"
   ]
  },
  {
   "cell_type": "code",
   "execution_count": 15,
   "id": "e0eab127",
   "metadata": {},
   "outputs": [],
   "source": [
    "class NeuralNetwork(nn.Module):\n",
    "    def __init__(self, input_features, output_features, hidden_units=100):\n",
    "        super().__init__()\n",
    "        self.linear_layer_stack = nn.Sequential(\n",
    "            nn.Linear(in_features=input_features, out_features=hidden_units),\n",
    "            nn.ReLU(),\n",
    "            nn.Linear(in_features=hidden_units, out_features=hidden_units),\n",
    "            nn.ReLU(),\n",
    "            nn.Linear(in_features=hidden_units, out_features=output_features)\n",
    "        )\n",
    "    \n",
    "    def forward(self, x:torch.Tensor) -> torch.Tensor:\n",
    "        return self.linear_layer_stack(x)"
   ]
  },
  {
   "cell_type": "code",
   "execution_count": 16,
   "id": "b88c821b",
   "metadata": {},
   "outputs": [
    {
     "data": {
      "text/plain": [
       "[Parameter containing:\n",
       " tensor([[-0.3967,  0.3029, -0.4706, -0.4607],\n",
       "         [-0.2499, -0.2747,  0.4791, -0.2005],\n",
       "         [ 0.1219,  0.2992,  0.2857, -0.0937],\n",
       "         [-0.4195, -0.3223,  0.1478,  0.1545],\n",
       "         [ 0.1173,  0.3961, -0.4729,  0.4476],\n",
       "         [ 0.2369,  0.4657, -0.1298,  0.2221],\n",
       "         [ 0.0780,  0.2895,  0.4336,  0.4279],\n",
       "         [-0.0972, -0.4383,  0.3635,  0.4337],\n",
       "         [-0.1418, -0.4561, -0.4556, -0.0710],\n",
       "         [-0.0166, -0.4978, -0.2539,  0.2048],\n",
       "         [ 0.3708, -0.3007, -0.4444, -0.0149],\n",
       "         [ 0.3374, -0.0454,  0.3565,  0.1059],\n",
       "         [ 0.4386, -0.1067, -0.0564, -0.3996],\n",
       "         [ 0.0711,  0.4492,  0.0055,  0.4240],\n",
       "         [-0.4935,  0.1053, -0.4189, -0.4145],\n",
       "         [ 0.2782,  0.2906,  0.2339,  0.1984],\n",
       "         [ 0.4117, -0.3493, -0.0601,  0.3885],\n",
       "         [-0.3592, -0.1930, -0.0493,  0.3293],\n",
       "         [ 0.1083,  0.4317, -0.1893, -0.3377],\n",
       "         [ 0.0166,  0.4834, -0.3395, -0.1540],\n",
       "         [ 0.1043, -0.3618, -0.0328, -0.4071],\n",
       "         [-0.3894, -0.1948, -0.4936, -0.3171],\n",
       "         [-0.0916,  0.4387,  0.0030, -0.4895],\n",
       "         [ 0.3966, -0.2846,  0.3175,  0.4390],\n",
       "         [ 0.1877,  0.3433, -0.2147,  0.2388],\n",
       "         [ 0.1353, -0.1941,  0.0246, -0.1836],\n",
       "         [ 0.0515, -0.4139,  0.0038,  0.2357],\n",
       "         [-0.3018, -0.1469, -0.3472,  0.2540],\n",
       "         [ 0.1139, -0.2634, -0.4700, -0.1457],\n",
       "         [ 0.3052,  0.0506, -0.4600,  0.2750],\n",
       "         [ 0.0110, -0.3188, -0.2661, -0.2113],\n",
       "         [ 0.2379, -0.3555,  0.2162,  0.2882],\n",
       "         [-0.1283, -0.1604, -0.2028,  0.0165],\n",
       "         [-0.0590,  0.4189,  0.2524,  0.2526],\n",
       "         [-0.0453, -0.0507,  0.0163,  0.4522],\n",
       "         [ 0.3760, -0.4364,  0.3089, -0.1939],\n",
       "         [ 0.3395, -0.3690,  0.3537, -0.0520],\n",
       "         [ 0.3708, -0.1154, -0.2840, -0.1336],\n",
       "         [-0.1679,  0.0942, -0.4540,  0.2167],\n",
       "         [-0.1836,  0.2940,  0.4750, -0.3641],\n",
       "         [-0.0845, -0.4440,  0.3350,  0.0297],\n",
       "         [ 0.3467, -0.3944,  0.4782,  0.4680],\n",
       "         [ 0.3253,  0.3668,  0.2059,  0.3903],\n",
       "         [ 0.0625,  0.1756, -0.2210, -0.4529],\n",
       "         [-0.1747,  0.0166, -0.1739, -0.2224],\n",
       "         [ 0.3859,  0.2198,  0.2462,  0.2431],\n",
       "         [ 0.2315,  0.3411,  0.4581,  0.1716],\n",
       "         [ 0.4625,  0.2761, -0.3534, -0.0216],\n",
       "         [ 0.4943, -0.3647, -0.2849,  0.2033],\n",
       "         [-0.0406,  0.2844,  0.0850, -0.2602],\n",
       "         [-0.3088, -0.2766,  0.1129,  0.1137],\n",
       "         [-0.4446,  0.2476,  0.2637, -0.2687],\n",
       "         [-0.4904,  0.0118,  0.4900,  0.2620],\n",
       "         [-0.3638, -0.4919, -0.1051,  0.0029],\n",
       "         [ 0.3911, -0.0740,  0.0377,  0.4933],\n",
       "         [ 0.4999, -0.4794, -0.0463,  0.3113],\n",
       "         [ 0.4229, -0.3820, -0.3431,  0.1397],\n",
       "         [ 0.3853,  0.4991,  0.1317,  0.1885],\n",
       "         [ 0.1303, -0.2361, -0.4791,  0.0639],\n",
       "         [ 0.4562,  0.4558,  0.4088,  0.4679],\n",
       "         [ 0.1548, -0.1822, -0.4191, -0.4972],\n",
       "         [-0.1224, -0.0975, -0.2377,  0.0470],\n",
       "         [-0.3861, -0.0556,  0.3199, -0.1501],\n",
       "         [ 0.0703,  0.1717,  0.2814, -0.2278],\n",
       "         [-0.3600,  0.4563, -0.0633, -0.0362],\n",
       "         [ 0.1831, -0.3540,  0.1984, -0.2327],\n",
       "         [ 0.1813, -0.0384,  0.2894,  0.1199],\n",
       "         [ 0.0460, -0.4166,  0.3511,  0.2580],\n",
       "         [ 0.3419, -0.2684, -0.2352, -0.4536],\n",
       "         [ 0.3739, -0.2588, -0.2425,  0.4858],\n",
       "         [-0.0232, -0.4775,  0.1555, -0.3554],\n",
       "         [-0.2689, -0.0292, -0.3651,  0.4814],\n",
       "         [ 0.2730, -0.2934,  0.0367, -0.4250],\n",
       "         [-0.4347, -0.0182, -0.3091,  0.3791],\n",
       "         [ 0.1689, -0.3254,  0.3445,  0.4636],\n",
       "         [ 0.0714, -0.3798, -0.2844,  0.3743],\n",
       "         [ 0.2152, -0.4577, -0.3189, -0.4618],\n",
       "         [ 0.0417, -0.1414,  0.1426,  0.4070],\n",
       "         [-0.4526, -0.4776, -0.1556,  0.4667],\n",
       "         [-0.1601, -0.3621, -0.1457, -0.0915],\n",
       "         [-0.0086,  0.0425, -0.3599,  0.2025],\n",
       "         [-0.0741,  0.4690,  0.4870, -0.0271],\n",
       "         [ 0.2761,  0.3543,  0.2844, -0.4148],\n",
       "         [ 0.1830,  0.3617, -0.2573, -0.0381],\n",
       "         [-0.1149, -0.2687,  0.1471,  0.2174],\n",
       "         [ 0.1589,  0.2553, -0.4783,  0.1676],\n",
       "         [ 0.3998, -0.0976, -0.2966,  0.4768],\n",
       "         [-0.1549,  0.3947, -0.1989, -0.3848],\n",
       "         [ 0.2202,  0.0398,  0.4850, -0.1092],\n",
       "         [ 0.2941, -0.3537, -0.3962, -0.4978],\n",
       "         [ 0.4120,  0.3778, -0.2851, -0.3883],\n",
       "         [-0.2620,  0.2604, -0.0392, -0.3815],\n",
       "         [ 0.0749,  0.2524, -0.3355,  0.1327],\n",
       "         [-0.4872, -0.3915,  0.4455,  0.4108],\n",
       "         [-0.2815,  0.0376,  0.3050,  0.1513],\n",
       "         [ 0.1089,  0.4752,  0.1832, -0.2246],\n",
       "         [-0.4516, -0.0893,  0.1396, -0.2149],\n",
       "         [-0.3783,  0.4625,  0.1011, -0.4137],\n",
       "         [ 0.2195, -0.4828,  0.3945,  0.3386],\n",
       "         [ 0.3911, -0.2440,  0.1045,  0.2524]], device='mps:0',\n",
       "        requires_grad=True),\n",
       " Parameter containing:\n",
       " tensor([-0.3020,  0.0518, -0.2840,  0.0075,  0.4788, -0.0030,  0.4907, -0.3264,\n",
       "         -0.2490, -0.0720,  0.2870,  0.3321, -0.4544, -0.4042,  0.3514, -0.0074,\n",
       "         -0.2809,  0.3113,  0.0272, -0.4416, -0.1491,  0.3999,  0.3087, -0.3209,\n",
       "         -0.4346,  0.0044,  0.2476, -0.4355,  0.2924,  0.0783, -0.2606,  0.1688,\n",
       "          0.0192,  0.1837,  0.0834, -0.0106,  0.4802,  0.0015,  0.0903, -0.2128,\n",
       "          0.1116, -0.4491,  0.2519,  0.2988, -0.0893,  0.3749, -0.0258,  0.4293,\n",
       "         -0.1530,  0.3307, -0.2890,  0.3594,  0.4157, -0.3697,  0.0376,  0.2242,\n",
       "          0.4320,  0.3673,  0.2123,  0.0915,  0.0235, -0.3167, -0.3563, -0.0108,\n",
       "         -0.0650,  0.4334, -0.1034, -0.0210, -0.1379,  0.4763, -0.0840, -0.4977,\n",
       "         -0.1751,  0.3249, -0.2357,  0.0536,  0.4170,  0.1807, -0.4640, -0.2931,\n",
       "         -0.0299,  0.3163, -0.4200, -0.3730, -0.0866,  0.2696, -0.1740, -0.2470,\n",
       "          0.2400, -0.0808, -0.1666,  0.4259, -0.0997,  0.2099, -0.3648, -0.2241,\n",
       "          0.2858, -0.1384, -0.4487, -0.0384], device='mps:0',\n",
       "        requires_grad=True),\n",
       " Parameter containing:\n",
       " tensor([[-0.0607,  0.0339,  0.0826,  ..., -0.0275, -0.0585,  0.0685],\n",
       "         [ 0.0552, -0.0516,  0.0714,  ...,  0.0561,  0.0519, -0.0672],\n",
       "         [-0.0780,  0.0986, -0.0088,  ..., -0.0915,  0.0547, -0.0616],\n",
       "         ...,\n",
       "         [ 0.0695, -0.0170, -0.0327,  ...,  0.0391, -0.0882, -0.0639],\n",
       "         [ 0.0376,  0.0904, -0.0776,  ..., -0.0093, -0.0474,  0.0954],\n",
       "         [-0.0604, -0.0205, -0.0534,  ...,  0.0550, -0.0837,  0.0628]],\n",
       "        device='mps:0', requires_grad=True),\n",
       " Parameter containing:\n",
       " tensor([-0.0693,  0.0570,  0.0571,  0.0967, -0.0036, -0.0129, -0.0076, -0.0510,\n",
       "          0.0504,  0.0278, -0.0836, -0.0424,  0.0342,  0.0255, -0.0068, -0.0201,\n",
       "          0.0025,  0.0004, -0.0643, -0.0181, -0.0497, -0.0234, -0.0558,  0.0291,\n",
       "         -0.0119,  0.0122,  0.0525,  0.0633,  0.0751,  0.0307,  0.0884, -0.0731,\n",
       "          0.0257,  0.0258,  0.0451, -0.0883,  0.0047,  0.0111, -0.0203,  0.0815,\n",
       "         -0.0937,  0.0568,  0.0612,  0.0968,  0.0476, -0.0924, -0.0753, -0.0947,\n",
       "          0.0760, -0.0839, -0.0371, -0.0380, -0.0599, -0.0219,  0.0129, -0.0546,\n",
       "          0.0429,  0.0870,  0.0221,  0.0259, -0.0487, -0.0298,  0.0168, -0.0710,\n",
       "          0.0074, -0.0572,  0.0863, -0.0079, -0.0127, -0.0261,  0.0706, -0.0801,\n",
       "          0.0191, -0.0424,  0.0349,  0.0580, -0.0981, -0.0043, -0.0918, -0.0786,\n",
       "          0.0842,  0.0315, -0.0764,  0.0779, -0.0261, -0.0927, -0.0420,  0.0619,\n",
       "         -0.0329,  0.0571,  0.0755, -0.0422,  0.0580,  0.0548,  0.0561,  0.0226,\n",
       "          0.0575, -0.0881, -0.0810, -0.0295], device='mps:0',\n",
       "        requires_grad=True),\n",
       " Parameter containing:\n",
       " tensor([[ 3.8953e-02, -5.1683e-02,  4.6599e-02, -5.3451e-02, -6.9746e-02,\n",
       "           1.9586e-02,  5.6360e-02,  1.8167e-05,  5.4626e-02,  8.7062e-02,\n",
       "          -4.0456e-03,  4.0975e-02, -5.9413e-02,  1.7743e-03,  6.1724e-02,\n",
       "          -2.8927e-02,  7.1300e-02, -1.8151e-02,  1.5414e-02,  1.1975e-03,\n",
       "           7.1841e-02, -1.9555e-02, -6.8093e-02,  5.1405e-02,  1.4420e-02,\n",
       "           3.3320e-02, -8.9510e-03,  3.1841e-02,  4.3533e-02, -2.9522e-02,\n",
       "          -7.5637e-02,  1.5904e-02,  2.2679e-02,  2.6374e-02,  7.8866e-02,\n",
       "          -6.8313e-02,  3.3828e-02,  7.4175e-02,  5.2042e-03, -1.1418e-02,\n",
       "          -1.5072e-02, -1.0515e-02, -3.8390e-02, -1.7909e-03, -3.3440e-03,\n",
       "          -5.9348e-02,  9.0636e-02,  2.1915e-03, -2.5387e-02, -9.8483e-02,\n",
       "          -5.8672e-02,  2.1546e-02,  1.4553e-02,  7.7710e-02,  1.6472e-02,\n",
       "          -7.0398e-02, -4.2449e-02, -5.4600e-02,  6.4250e-02,  8.2907e-02,\n",
       "          -9.2387e-02,  4.9263e-02, -6.2252e-02,  2.7619e-02, -3.2015e-02,\n",
       "          -3.2957e-02, -4.1073e-02,  5.1842e-02, -1.8492e-03, -2.3340e-02,\n",
       "           8.2049e-02,  2.7715e-02, -7.5966e-02,  6.8910e-02, -6.9765e-03,\n",
       "           2.8440e-02,  7.2943e-03, -6.7319e-02,  7.2642e-02,  1.7456e-02,\n",
       "           5.1928e-02,  3.0053e-02, -7.4164e-02,  6.5408e-02, -1.3545e-02,\n",
       "          -5.5010e-02, -9.4529e-02, -4.7679e-02,  7.3159e-02,  8.5020e-02,\n",
       "           1.9631e-02,  3.9200e-02,  4.3094e-02,  3.7255e-02,  9.7838e-02,\n",
       "          -3.0437e-02,  4.2180e-02, -9.4912e-02,  6.3636e-02,  5.3507e-02],\n",
       "         [ 1.0063e-02, -2.1842e-02, -6.9605e-02, -7.3578e-02, -6.1854e-02,\n",
       "          -6.7668e-02,  8.8945e-02,  3.3915e-03, -9.9125e-02, -6.0714e-03,\n",
       "          -6.6254e-02, -1.4586e-02,  7.5165e-03, -3.5634e-02, -5.4095e-02,\n",
       "           2.9592e-02, -5.4116e-02, -8.7685e-02, -8.1617e-02, -8.6131e-02,\n",
       "          -9.6977e-02,  4.3755e-02,  6.5403e-02,  5.5643e-02, -2.8435e-02,\n",
       "          -2.8940e-02,  5.5015e-02,  5.1276e-02,  2.5465e-02,  1.6176e-02,\n",
       "          -7.3354e-02,  6.6274e-02, -3.8127e-02,  2.9977e-02, -8.3452e-03,\n",
       "           1.8269e-02, -1.9168e-02, -2.7363e-02, -1.0149e-02,  8.0986e-03,\n",
       "          -4.8373e-02, -4.0582e-03, -3.9379e-02,  8.2797e-02,  2.5605e-02,\n",
       "          -5.3382e-02, -4.3972e-02,  5.6420e-02,  2.7307e-02,  8.0571e-02,\n",
       "           7.1183e-02,  1.3855e-02, -9.5152e-02,  9.5640e-02, -8.2579e-02,\n",
       "           5.8559e-02,  8.1698e-03, -8.8981e-02, -1.8514e-02,  3.0187e-02,\n",
       "           9.1411e-03,  5.2210e-02,  5.2689e-02,  9.6108e-02,  5.6122e-02,\n",
       "          -5.6418e-02,  7.5236e-02,  6.9747e-02,  9.7772e-02,  6.7543e-02,\n",
       "          -2.8193e-02,  7.5296e-02,  8.0857e-02,  3.4061e-02,  2.0552e-02,\n",
       "          -1.0184e-03, -4.6695e-02,  8.7769e-03, -1.4161e-02, -5.0780e-03,\n",
       "           9.3059e-03,  3.7458e-02,  5.5449e-02,  6.9806e-02,  6.6907e-02,\n",
       "          -4.7919e-02,  2.9753e-02, -2.6069e-04, -8.5470e-02,  4.2700e-02,\n",
       "           4.0092e-02,  6.0461e-02,  2.1289e-02, -2.6380e-02, -4.1216e-02,\n",
       "          -1.4278e-02, -1.7817e-02, -3.5762e-02,  1.5967e-02, -4.2372e-02],\n",
       "         [-1.9682e-02, -5.6452e-02, -8.0317e-02,  8.1076e-02, -7.4842e-03,\n",
       "          -1.1882e-02, -6.0775e-02, -2.9371e-02, -1.2558e-04, -8.9210e-02,\n",
       "           7.4464e-04, -4.1496e-02,  6.1878e-02,  7.7104e-02, -2.5123e-02,\n",
       "          -6.7883e-02, -7.2678e-02, -4.1060e-03,  6.6981e-02, -2.5689e-02,\n",
       "          -8.7017e-02, -9.2320e-02, -1.9835e-02,  9.0579e-02, -4.0920e-02,\n",
       "           2.0794e-02, -8.2957e-02,  7.1224e-03, -1.0308e-02, -6.1213e-02,\n",
       "           8.3052e-02,  8.2105e-02,  7.5680e-02, -9.6342e-02,  5.3662e-02,\n",
       "           7.6686e-02,  4.3231e-02,  5.7750e-03,  2.5166e-02,  1.4312e-02,\n",
       "           5.2979e-02, -6.2629e-02, -1.7721e-02,  4.4350e-02,  9.7532e-02,\n",
       "          -1.6440e-02, -8.5187e-02, -7.1221e-02, -6.5193e-02,  1.5475e-02,\n",
       "          -6.0445e-03, -6.9781e-03, -7.7008e-02,  3.0239e-03, -2.9990e-02,\n",
       "          -4.9237e-02,  3.5723e-02,  8.7926e-03, -6.2349e-02,  1.1219e-02,\n",
       "          -8.1719e-04, -2.3101e-02, -9.5077e-02, -8.8502e-02, -3.8565e-02,\n",
       "          -6.3898e-03, -3.4651e-02, -7.7865e-02,  1.9509e-02, -7.2357e-02,\n",
       "           6.5113e-02,  2.2703e-02,  6.8523e-02, -4.2084e-02,  5.6247e-02,\n",
       "           1.7480e-02,  4.6709e-02, -4.2604e-02,  6.2455e-02,  1.0654e-02,\n",
       "           6.5858e-02, -6.0715e-02, -1.5225e-02, -2.8953e-02, -5.4470e-02,\n",
       "          -9.0083e-03,  7.6805e-02, -5.8143e-02, -4.4020e-02,  4.6543e-02,\n",
       "           9.6208e-02, -3.4988e-02, -2.2554e-02, -6.3257e-02, -6.8703e-02,\n",
       "           9.2842e-02,  4.0376e-02,  6.6899e-02,  3.6966e-02,  3.0152e-02]],\n",
       "        device='mps:0', requires_grad=True),\n",
       " Parameter containing:\n",
       " tensor([-0.0344,  0.0997, -0.0189], device='mps:0', requires_grad=True)]"
      ]
     },
     "execution_count": 16,
     "metadata": {},
     "output_type": "execute_result"
    }
   ],
   "source": [
    "model = NeuralNetwork(input_features=4, output_features=3, hidden_units=100)\n",
    "model.to(device)\n",
    "list(model.parameters())"
   ]
  },
  {
   "cell_type": "code",
   "execution_count": 17,
   "id": "3ca38be7",
   "metadata": {},
   "outputs": [],
   "source": [
    "# Set up Loss Function and Optimizer\n",
    "loss_fn = nn.CrossEntropyLoss()\n",
    "optimizer = torch.optim.SGD(params=model.parameters(), lr=0.01)"
   ]
  },
  {
   "cell_type": "code",
   "execution_count": 18,
   "id": "5c3ead2d",
   "metadata": {},
   "outputs": [
    {
     "name": "stdout",
     "output_type": "stream",
     "text": [
      "Epoch=100|Train Loss=0.4807|Train Acc=0.91|Test Loss=0.4734|Test Acc=0.93\n",
      "Epoch=200|Train Loss=0.3397|Train Acc=0.98|Test Loss=0.3431|Test Acc=0.97\n",
      "Epoch=300|Train Loss=0.2465|Train Acc=0.98|Test Loss=0.2638|Test Acc=0.97\n",
      "Epoch=400|Train Loss=0.1830|Train Acc=0.98|Test Loss=0.2120|Test Acc=0.97\n",
      "Epoch=500|Train Loss=0.1448|Train Acc=0.98|Test Loss=0.1801|Test Acc=0.97\n",
      "Epoch=600|Train Loss=0.1219|Train Acc=0.98|Test Loss=0.1604|Test Acc=0.97\n",
      "Epoch=700|Train Loss=0.1074|Train Acc=0.98|Test Loss=0.1475|Test Acc=0.97\n",
      "Epoch=800|Train Loss=0.0971|Train Acc=0.97|Test Loss=0.1385|Test Acc=0.97\n",
      "Epoch=900|Train Loss=0.0904|Train Acc=0.97|Test Loss=0.1320|Test Acc=0.97\n",
      "Epoch=1000|Train Loss=0.0855|Train Acc=0.97|Test Loss=0.1268|Test Acc=0.97\n",
      "Epoch=1100|Train Loss=0.0818|Train Acc=0.97|Test Loss=0.1225|Test Acc=0.97\n",
      "Epoch=1200|Train Loss=0.0790|Train Acc=0.97|Test Loss=0.1188|Test Acc=0.97\n",
      "Epoch=1300|Train Loss=0.0767|Train Acc=0.97|Test Loss=0.1156|Test Acc=0.97\n",
      "Epoch=1400|Train Loss=0.0748|Train Acc=0.97|Test Loss=0.1128|Test Acc=0.97\n",
      "Epoch=1500|Train Loss=0.0732|Train Acc=0.97|Test Loss=0.1102|Test Acc=0.97\n",
      "Epoch=1600|Train Loss=0.0719|Train Acc=0.98|Test Loss=0.1079|Test Acc=0.97\n",
      "Epoch=1700|Train Loss=0.0708|Train Acc=0.98|Test Loss=0.1058|Test Acc=0.97\n",
      "Epoch=1800|Train Loss=0.0698|Train Acc=0.98|Test Loss=0.1039|Test Acc=0.97\n",
      "Epoch=1900|Train Loss=0.0690|Train Acc=0.98|Test Loss=0.1021|Test Acc=0.97\n",
      "Epoch=2000|Train Loss=0.0682|Train Acc=0.98|Test Loss=0.1004|Test Acc=0.97\n",
      "Epoch=2100|Train Loss=0.0676|Train Acc=0.98|Test Loss=0.0989|Test Acc=0.97\n",
      "Epoch=2200|Train Loss=0.0670|Train Acc=0.98|Test Loss=0.0974|Test Acc=0.97\n",
      "Epoch=2300|Train Loss=0.0665|Train Acc=0.98|Test Loss=0.0960|Test Acc=0.97\n",
      "Epoch=2400|Train Loss=0.0660|Train Acc=0.98|Test Loss=0.0947|Test Acc=0.97\n",
      "Epoch=2500|Train Loss=0.0655|Train Acc=0.98|Test Loss=0.0935|Test Acc=0.97\n",
      "Epoch=2600|Train Loss=0.0651|Train Acc=0.98|Test Loss=0.0923|Test Acc=0.97\n",
      "Epoch=2700|Train Loss=0.0648|Train Acc=0.98|Test Loss=0.0911|Test Acc=0.97\n",
      "Epoch=2800|Train Loss=0.0644|Train Acc=0.98|Test Loss=0.0901|Test Acc=0.97\n",
      "Epoch=2900|Train Loss=0.0641|Train Acc=0.98|Test Loss=0.0891|Test Acc=0.97\n",
      "Epoch=3000|Train Loss=0.0638|Train Acc=0.98|Test Loss=0.0881|Test Acc=0.97\n",
      "Epoch=3100|Train Loss=0.0635|Train Acc=0.98|Test Loss=0.0872|Test Acc=0.97\n",
      "Epoch=3200|Train Loss=0.0632|Train Acc=0.98|Test Loss=0.0863|Test Acc=0.97\n",
      "Epoch=3300|Train Loss=0.0630|Train Acc=0.97|Test Loss=0.0854|Test Acc=0.97\n",
      "Epoch=3400|Train Loss=0.0628|Train Acc=0.97|Test Loss=0.0846|Test Acc=0.97\n",
      "Epoch=3500|Train Loss=0.0625|Train Acc=0.97|Test Loss=0.0838|Test Acc=0.97\n",
      "Epoch=3600|Train Loss=0.0623|Train Acc=0.97|Test Loss=0.0831|Test Acc=0.97\n",
      "Epoch=3700|Train Loss=0.0621|Train Acc=0.97|Test Loss=0.0823|Test Acc=0.97\n",
      "Epoch=3800|Train Loss=0.0619|Train Acc=0.97|Test Loss=0.0816|Test Acc=0.97\n",
      "Epoch=3900|Train Loss=0.0617|Train Acc=0.97|Test Loss=0.0810|Test Acc=0.97\n",
      "Epoch=4000|Train Loss=0.0616|Train Acc=0.97|Test Loss=0.0803|Test Acc=0.97\n"
     ]
    }
   ],
   "source": [
    "epochs = 4000\n",
    "trainLossList = []\n",
    "testLossList = []\n",
    "X_train, y_train = X_train.to(device), y_train.to(device)\n",
    "X_test, y_test = X_test.to(device), y_test.to(device)\n",
    "for epoch in range(epochs):\n",
    "    ### TRAINING\n",
    "    # 1. Forward Pass\n",
    "    y_logits = model(X_train).squeeze()\n",
    "    y_preds = torch.softmax(y_logits, dim=1).argmax(dim=1)\n",
    "\n",
    "    # 2. Compute Loss\n",
    "    loss = loss_fn(y_logits, y_train)\n",
    "\n",
    "    # 3. Zero grad Optimizer\n",
    "    optimizer.zero_grad()\n",
    "\n",
    "    # 4. Backpropagate\n",
    "    loss.backward()\n",
    "\n",
    "    # 5. Step the optimizer\n",
    "    optimizer.step()\n",
    "\n",
    "    acc = accuracy_score(y_true=y_train.cpu(), y_pred=y_preds.cpu())\n",
    "\n",
    "    ### TESTING\n",
    "    model.eval()\n",
    "    with torch.inference_mode():\n",
    "        test_logits = model(X_test).squeeze()\n",
    "        test_preds = torch.softmax(test_logits, dim=1).argmax(dim=1)\n",
    "        test_loss = loss_fn(test_logits, y_test)\n",
    "        test_acc = accuracy_score(y_true=y_test.cpu(), y_pred=test_preds.cpu())\n",
    "\n",
    "    if (epoch+1)%100 == 0:\n",
    "        print(f\"Epoch={epoch+1}|Train Loss={loss:.4f}|Train Acc={acc:.2f}|Test Loss={test_loss:.4f}|Test Acc={test_acc:.2f}\")\n",
    "    \n",
    "    trainLossList.append(loss.cpu().detach().numpy())\n",
    "    testLossList.append(test_loss.cpu().detach().numpy())"
   ]
  },
  {
   "cell_type": "code",
   "execution_count": 19,
   "id": "f6e0689b",
   "metadata": {},
   "outputs": [
    {
     "data": {
      "image/png": "[encoded data removed]",
      "text/plain": [
       "<Figure size 1000x800 with 1 Axes>"
      ]
     },
     "metadata": {},
     "output_type": "display_data"
    }
   ],
   "source": [
    "# Plot the Loss Curve\n",
    "plt.figure(figsize=(10,8))\n",
    "plt.plot(range(epochs), trainLossList, label=\"Training Loss\")\n",
    "plt.plot(range(epochs), testLossList, label=\"Testing Loss\")\n",
    "plt.xlabel(\"Epochs\")\n",
    "plt.ylabel(\"Loss\")\n",
    "plt.title(\"Epochs vs Loss\")\n",
    "plt.legend()\n",
    "plt.show()"
   ]
  },
  {
   "cell_type": "code",
   "execution_count": 20,
   "id": "f11b138a",
   "metadata": {},
   "outputs": [],
   "source": [
    "from pathlib import Path \n",
    "# Create models directory\n",
    "MODEL_PATH = Path(\"models\")\n",
    "MODEL_PATH.mkdir(parents=True, exist_ok=True)\n",
    "\n",
    "# Create model save path \n",
    "MODEL_NAME = \"iris_model.pth\"\n",
    "MODEL_SAVE_PATH = MODEL_PATH / MODEL_NAME\n",
    "\n",
    "# Save the model\n",
    "torch.save(obj=model.state_dict(), f=MODEL_SAVE_PATH)"
   ]
  },
  {
   "cell_type": "code",
   "execution_count": 25,
   "id": "015817fc",
   "metadata": {},
   "outputs": [
    {
     "data": {
      "text/html": [
       "<div>\n",
       "<style scoped>\n",
       "    .dataframe tbody tr th:only-of-type {\n",
       "        vertical-align: middle;\n",
       "    }\n",
       "\n",
       "    .dataframe tbody tr th {\n",
       "        vertical-align: top;\n",
       "    }\n",
       "\n",
       "    .dataframe thead th {\n",
       "        text-align: right;\n",
       "    }\n",
       "</style>\n",
       "<table border=\"1\" class=\"dataframe\">\n",
       "  <thead>\n",
       "    <tr style=\"text-align: right;\">\n",
       "      <th></th>\n",
       "      <th>SepalLengthCm</th>\n",
       "      <th>SepalWidthCm</th>\n",
       "      <th>PetalLengthCm</th>\n",
       "      <th>PetalWidthCm</th>\n",
       "      <th>Species</th>\n",
       "    </tr>\n",
       "  </thead>\n",
       "  <tbody>\n",
       "    <tr>\n",
       "      <th>22</th>\n",
       "      <td>4.6</td>\n",
       "      <td>3.6</td>\n",
       "      <td>1.0</td>\n",
       "      <td>0.2</td>\n",
       "      <td>Iris-setosa</td>\n",
       "    </tr>\n",
       "  </tbody>\n",
       "</table>\n",
       "</div>"
      ],
      "text/plain": [
       "    SepalLengthCm  SepalWidthCm  PetalLengthCm  PetalWidthCm      Species\n",
       "22            4.6           3.6            1.0           0.2  Iris-setosa"
      ]
     },
     "execution_count": 25,
     "metadata": {},
     "output_type": "execute_result"
    }
   ],
   "source": [
    "df.sample()"
   ]
  },
  {
   "cell_type": "code",
   "execution_count": 27,
   "id": "ae492b17",
   "metadata": {},
   "outputs": [
    {
     "name": "stdout",
     "output_type": "stream",
     "text": [
      "tensor([[ 13.2893,   4.8908, -19.9690]], device='mps:0',\n",
      "       grad_fn=<LinearBackward0>)\n"
     ]
    }
   ],
   "source": [
    "test_sample = np.array([[4.6, 3.6, 1.0, 0.2]])\n",
    "test_tensor = torch.from_numpy(test_sample).type(torch.float).to(device)\n",
    "test_answer = model(test_tensor)\n",
    "print(test_answer)"
   ]
  },
  {
   "cell_type": "code",
   "execution_count": 28,
   "id": "47e0cc43",
   "metadata": {},
   "outputs": [
    {
     "name": "stdout",
     "output_type": "stream",
     "text": [
      "tensor([[9.9977e-01, 2.2515e-04, 3.5977e-15]], device='mps:0',\n",
      "       grad_fn=<SoftmaxBackward0>)\n"
     ]
    }
   ],
   "source": [
    "test_answer_softmax = torch.softmax(test_answer, dim=1)\n",
    "print(test_answer_softmax)"
   ]
  },
  {
   "cell_type": "code",
   "execution_count": null,
   "id": "1f67110e",
   "metadata": {},
   "outputs": [
    {
     "name": "stdout",
     "output_type": "stream",
     "text": [
      "tensor([0], device='mps:0')\n"
     ]
    }
   ],
   "source": [
    "test_answer_softmax_argmax = torch.argmax(test_answer_softmax, dim=1)\n",
    "print(test_answer_softmax_argmax)"
   ]
  },
  {
   "cell_type": "code",
   "execution_count": 35,
   "id": "76579f60",
   "metadata": {},
   "outputs": [
    {
     "name": "stdout",
     "output_type": "stream",
     "text": [
      "0\n"
     ]
    }
   ],
   "source": [
    "answer = test_answer_softmax_argmax.cpu().numpy()\n",
    "print(answer[0])"
   ]
  },
  {
   "cell_type": "code",
   "execution_count": 36,
   "id": "ff537267",
   "metadata": {},
   "outputs": [
    {
     "name": "stdout",
     "output_type": "stream",
     "text": [
      "{0: 'Iris-setosa', 1: 'Iris-versicolor', 2: 'Iris-virginica'}\n"
     ]
    }
   ],
   "source": [
    "label_to_idx = {'Iris-setosa':0, 'Iris-versicolor':1, 'Iris-virginica':2}\n",
    "idx_to_label= {value:key for key,value in label_to_idx.items()}\n",
    "print(idx_to_label)"
   ]
  },
  {
   "cell_type": "code",
   "execution_count": 37,
   "id": "cdf7f3c2",
   "metadata": {},
   "outputs": [
    {
     "name": "stdout",
     "output_type": "stream",
     "text": [
      "Iris-setosa\n"
     ]
    }
   ],
   "source": [
    "print(idx_to_label[answer[0]])"
   ]
  },
  {
   "cell_type": "code",
   "execution_count": null,
   "id": "abc400e2",
   "metadata": {},
   "outputs": [],
   "source": []
  }
 ],
 "metadata": {
  "kernelspec": {
   "display_name": "AI",
   "language": "python",
   "name": "python3"
  },
  "language_info": {
   "codemirror_mode": {
    "name": "ipython",
    "version": 3
   },
   "file_extension": ".py",
   "mimetype": "text/x-python",
   "name": "python",
   "nbconvert_exporter": "python",
   "pygments_lexer": "ipython3",
   "version": "3.12.4"
  }
 },
 "nbformat": 4,
 "nbformat_minor": 5
}
