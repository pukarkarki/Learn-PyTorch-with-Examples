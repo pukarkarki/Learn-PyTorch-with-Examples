{
 "cells": [
  {
   "cell_type": "code",
   "execution_count": 1,
   "id": "f0b27b7b",
   "metadata": {},
   "outputs": [
    {
     "name": "stdout",
     "output_type": "stream",
     "text": [
      "2.7.0\n"
     ]
    }
   ],
   "source": [
    "import torch\n",
    "print(torch.__version__)"
   ]
  },
  {
   "cell_type": "code",
   "execution_count": 2,
   "id": "fcc69d88",
   "metadata": {},
   "outputs": [
    {
     "name": "stdout",
     "output_type": "stream",
     "text": [
      "Using device = mps\n"
     ]
    }
   ],
   "source": [
    "if torch.cuda.is_available():\n",
    "    device = \"cuda\"\n",
    "elif torch.backends.mps.is_available():\n",
    "    device = \"mps\"\n",
    "else:\n",
    "    device = \"cpu\"\n",
    "print(f\"Using device = {device}\")"
   ]
  },
  {
   "cell_type": "code",
   "execution_count": 3,
   "id": "1c413854",
   "metadata": {},
   "outputs": [],
   "source": [
    "import numpy as np \n",
    "import pandas as pd \n",
    "import matplotlib.pyplot as plt "
   ]
  },
  {
   "cell_type": "code",
   "execution_count": 4,
   "id": "077e58f1",
   "metadata": {},
   "outputs": [
    {
     "name": "stdout",
     "output_type": "stream",
     "text": [
      "<class 'pandas.core.frame.DataFrame'>\n",
      "RangeIndex: 100 entries, 0 to 99\n",
      "Data columns (total 2 columns):\n",
      " #   Column  Non-Null Count  Dtype  \n",
      "---  ------  --------------  -----  \n",
      " 0   X       100 non-null    float64\n",
      " 1   y       100 non-null    float64\n",
      "dtypes: float64(2)\n",
      "memory usage: 1.7 KB\n",
      "None\n"
     ]
    }
   ],
   "source": [
    "df = pd.read_csv('data/linear_data.csv')\n",
    "print(df.info())"
   ]
  },
  {
   "cell_type": "code",
   "execution_count": 5,
   "id": "a9a7054a",
   "metadata": {},
   "outputs": [
    {
     "data": {
      "text/html": [
       "<div>\n",
       "<style scoped>\n",
       "    .dataframe tbody tr th:only-of-type {\n",
       "        vertical-align: middle;\n",
       "    }\n",
       "\n",
       "    .dataframe tbody tr th {\n",
       "        vertical-align: top;\n",
       "    }\n",
       "\n",
       "    .dataframe thead th {\n",
       "        text-align: right;\n",
       "    }\n",
       "</style>\n",
       "<table border=\"1\" class=\"dataframe\">\n",
       "  <thead>\n",
       "    <tr style=\"text-align: right;\">\n",
       "      <th></th>\n",
       "      <th>X</th>\n",
       "      <th>y</th>\n",
       "    </tr>\n",
       "  </thead>\n",
       "  <tbody>\n",
       "    <tr>\n",
       "      <th>0</th>\n",
       "      <td>-1.00</td>\n",
       "      <td>-0.220770</td>\n",
       "    </tr>\n",
       "    <tr>\n",
       "      <th>1</th>\n",
       "      <td>-0.98</td>\n",
       "      <td>-0.200901</td>\n",
       "    </tr>\n",
       "    <tr>\n",
       "      <th>2</th>\n",
       "      <td>-0.96</td>\n",
       "      <td>-0.181032</td>\n",
       "    </tr>\n",
       "    <tr>\n",
       "      <th>3</th>\n",
       "      <td>-0.94</td>\n",
       "      <td>-0.161163</td>\n",
       "    </tr>\n",
       "    <tr>\n",
       "      <th>4</th>\n",
       "      <td>-0.92</td>\n",
       "      <td>-0.141294</td>\n",
       "    </tr>\n",
       "  </tbody>\n",
       "</table>\n",
       "</div>"
      ],
      "text/plain": [
       "      X         y\n",
       "0 -1.00 -0.220770\n",
       "1 -0.98 -0.200901\n",
       "2 -0.96 -0.181032\n",
       "3 -0.94 -0.161163\n",
       "4 -0.92 -0.141294"
      ]
     },
     "execution_count": 5,
     "metadata": {},
     "output_type": "execute_result"
    }
   ],
   "source": [
    "# View the top 5 entries\n",
    "df.head()"
   ]
  },
  {
   "cell_type": "code",
   "execution_count": 6,
   "id": "758bf215",
   "metadata": {},
   "outputs": [
    {
     "data": {
      "text/html": [
       "<div>\n",
       "<style scoped>\n",
       "    .dataframe tbody tr th:only-of-type {\n",
       "        vertical-align: middle;\n",
       "    }\n",
       "\n",
       "    .dataframe tbody tr th {\n",
       "        vertical-align: top;\n",
       "    }\n",
       "\n",
       "    .dataframe thead th {\n",
       "        text-align: right;\n",
       "    }\n",
       "</style>\n",
       "<table border=\"1\" class=\"dataframe\">\n",
       "  <thead>\n",
       "    <tr style=\"text-align: right;\">\n",
       "      <th></th>\n",
       "      <th>X</th>\n",
       "      <th>y</th>\n",
       "    </tr>\n",
       "  </thead>\n",
       "  <tbody>\n",
       "    <tr>\n",
       "      <th>95</th>\n",
       "      <td>0.90</td>\n",
       "      <td>1.666785</td>\n",
       "    </tr>\n",
       "    <tr>\n",
       "      <th>96</th>\n",
       "      <td>0.92</td>\n",
       "      <td>1.686654</td>\n",
       "    </tr>\n",
       "    <tr>\n",
       "      <th>97</th>\n",
       "      <td>0.94</td>\n",
       "      <td>1.706523</td>\n",
       "    </tr>\n",
       "    <tr>\n",
       "      <th>98</th>\n",
       "      <td>0.96</td>\n",
       "      <td>1.726392</td>\n",
       "    </tr>\n",
       "    <tr>\n",
       "      <th>99</th>\n",
       "      <td>0.98</td>\n",
       "      <td>1.746261</td>\n",
       "    </tr>\n",
       "  </tbody>\n",
       "</table>\n",
       "</div>"
      ],
      "text/plain": [
       "       X         y\n",
       "95  0.90  1.666785\n",
       "96  0.92  1.686654\n",
       "97  0.94  1.706523\n",
       "98  0.96  1.726392\n",
       "99  0.98  1.746261"
      ]
     },
     "execution_count": 6,
     "metadata": {},
     "output_type": "execute_result"
    }
   ],
   "source": [
    "# View the bottom 5 entries \n",
    "df.tail()"
   ]
  },
  {
   "cell_type": "code",
   "execution_count": 7,
   "id": "6d339098",
   "metadata": {},
   "outputs": [
    {
     "data": {
      "text/html": [
       "<div>\n",
       "<style scoped>\n",
       "    .dataframe tbody tr th:only-of-type {\n",
       "        vertical-align: middle;\n",
       "    }\n",
       "\n",
       "    .dataframe tbody tr th {\n",
       "        vertical-align: top;\n",
       "    }\n",
       "\n",
       "    .dataframe thead th {\n",
       "        text-align: right;\n",
       "    }\n",
       "</style>\n",
       "<table border=\"1\" class=\"dataframe\">\n",
       "  <thead>\n",
       "    <tr style=\"text-align: right;\">\n",
       "      <th></th>\n",
       "      <th>X</th>\n",
       "      <th>y</th>\n",
       "    </tr>\n",
       "  </thead>\n",
       "  <tbody>\n",
       "    <tr>\n",
       "      <th>count</th>\n",
       "      <td>100.00000</td>\n",
       "      <td>100.000000</td>\n",
       "    </tr>\n",
       "    <tr>\n",
       "      <th>mean</th>\n",
       "      <td>-0.01000</td>\n",
       "      <td>0.762746</td>\n",
       "    </tr>\n",
       "    <tr>\n",
       "      <th>std</th>\n",
       "      <td>0.58023</td>\n",
       "      <td>0.576429</td>\n",
       "    </tr>\n",
       "    <tr>\n",
       "      <th>min</th>\n",
       "      <td>-1.00000</td>\n",
       "      <td>-0.220770</td>\n",
       "    </tr>\n",
       "    <tr>\n",
       "      <th>25%</th>\n",
       "      <td>-0.50500</td>\n",
       "      <td>0.270988</td>\n",
       "    </tr>\n",
       "    <tr>\n",
       "      <th>50%</th>\n",
       "      <td>-0.01000</td>\n",
       "      <td>0.762746</td>\n",
       "    </tr>\n",
       "    <tr>\n",
       "      <th>75%</th>\n",
       "      <td>0.48500</td>\n",
       "      <td>1.254503</td>\n",
       "    </tr>\n",
       "    <tr>\n",
       "      <th>max</th>\n",
       "      <td>0.98000</td>\n",
       "      <td>1.746261</td>\n",
       "    </tr>\n",
       "  </tbody>\n",
       "</table>\n",
       "</div>"
      ],
      "text/plain": [
       "               X           y\n",
       "count  100.00000  100.000000\n",
       "mean    -0.01000    0.762746\n",
       "std      0.58023    0.576429\n",
       "min     -1.00000   -0.220770\n",
       "25%     -0.50500    0.270988\n",
       "50%     -0.01000    0.762746\n",
       "75%      0.48500    1.254503\n",
       "max      0.98000    1.746261"
      ]
     },
     "execution_count": 7,
     "metadata": {},
     "output_type": "execute_result"
    }
   ],
   "source": [
    "# View the describe\n",
    "df.describe()"
   ]
  },
  {
   "cell_type": "code",
   "execution_count": 8,
   "id": "d2f31f3a",
   "metadata": {},
   "outputs": [
    {
     "name": "stdout",
     "output_type": "stream",
     "text": [
      "Type of X =  <class 'torch.Tensor'>\n",
      "Type of y =  <class 'torch.Tensor'>\n"
     ]
    }
   ],
   "source": [
    "X = torch.Tensor(df['X'].values)\n",
    "y = torch.Tensor(df['y'].values)\n",
    "print(\"Type of X = \",type(X))\n",
    "print(\"Type of y = \",type(y))"
   ]
  },
  {
   "cell_type": "code",
   "execution_count": 9,
   "id": "c2af92ef",
   "metadata": {},
   "outputs": [
    {
     "name": "stdout",
     "output_type": "stream",
     "text": [
      "Shape of X_train = torch.Size([80]) and y_train = torch.Size([80])\n",
      "Shape of X_test = torch.Size([20]) and y_test = torch.Size([20])\n"
     ]
    }
   ],
   "source": [
    "# Split the training and testing set\n",
    "from sklearn.model_selection import train_test_split\n",
    "X_train, X_test, y_train, y_test = train_test_split(X, y, test_size=0.2, random_state=42)\n",
    "\n",
    "print(f\"Shape of X_train = {X_train.shape} and y_train = {y_train.shape}\")\n",
    "print(f\"Shape of X_test = {X_test.shape} and y_test = {y_test.shape}\")"
   ]
  },
  {
   "cell_type": "code",
   "execution_count": 10,
   "id": "8fad1d53",
   "metadata": {},
   "outputs": [
    {
     "data": {
      "image/png": "[encoded data removed]",
      "text/plain": [
       "<Figure size 800x600 with 1 Axes>"
      ]
     },
     "metadata": {},
     "output_type": "display_data"
    }
   ],
   "source": [
    "plt.figure(figsize=(8,6))\n",
    "plt.scatter(X_train, y_train, c='b', s=10, label='Training Data')\n",
    "plt.scatter(X_test, y_test, c='r', s=10, label='Testing Data')\n",
    "plt.xlabel(\"X\")\n",
    "plt.ylabel(\"y\")\n",
    "plt.title(\"X vs y\")\n",
    "plt.legend()\n",
    "plt.savefig('X vs y.png')\n",
    "plt.show();"
   ]
  },
  {
   "cell_type": "code",
   "execution_count": 11,
   "id": "891f087e",
   "metadata": {},
   "outputs": [],
   "source": [
    "# Create Neural Network\n",
    "from torch import nn\n",
    "class HamroNetwork(nn.Module):\n",
    "    def __init__(self):\n",
    "        super().__init__()\n",
    "        self.weights = nn.Parameter(torch.randn(1, dtype=torch.float, requires_grad=True))\n",
    "        self.bias = nn.Parameter(torch.randn(1, dtype=torch.float, requires_grad=True))\n",
    "\n",
    "    def forward(self, x):\n",
    "       return self.weights*x + self.bias"
   ]
  },
  {
   "cell_type": "code",
   "execution_count": 12,
   "id": "74fd25ca",
   "metadata": {},
   "outputs": [
    {
     "data": {
      "text/plain": [
       "[Parameter containing:\n",
       " tensor([0.3367], requires_grad=True),\n",
       " Parameter containing:\n",
       " tensor([0.1288], requires_grad=True)]"
      ]
     },
     "execution_count": 12,
     "metadata": {},
     "output_type": "execute_result"
    }
   ],
   "source": [
    "torch.manual_seed(42)\n",
    "model = HamroNetwork()\n",
    "list(model.parameters())"
   ]
  },
  {
   "cell_type": "code",
   "execution_count": 13,
   "id": "b52ab1d0",
   "metadata": {},
   "outputs": [],
   "source": [
    "with torch.inference_mode():\n",
    "    y_preds = model(X_test)"
   ]
  },
  {
   "cell_type": "code",
   "execution_count": 14,
   "id": "3b7db6f6",
   "metadata": {},
   "outputs": [
    {
     "data": {
      "image/png": "[encoded data removed]",
      "text/plain": [
       "<Figure size 800x600 with 1 Axes>"
      ]
     },
     "metadata": {},
     "output_type": "display_data"
    }
   ],
   "source": [
    "plt.figure(figsize=(8,6))\n",
    "plt.scatter(X_train, y_train, c='b', s=10, label='Training Data')\n",
    "plt.scatter(X_test, y_test, c='r', s=10, label='Testing Data')\n",
    "plt.scatter(X_test, y_preds, c='g', s=10, label='Predicted Data')\n",
    "plt.xlabel(\"X\")\n",
    "plt.ylabel(\"y\")\n",
    "plt.title(\"X vs y\")\n",
    "plt.legend()\n",
    "plt.savefig('X vs y.png')\n",
    "plt.show();"
   ]
  },
  {
   "cell_type": "code",
   "execution_count": 15,
   "id": "b7a0ee8a",
   "metadata": {},
   "outputs": [],
   "source": [
    "# Set up Loss Function and Optimizer\n",
    "loss_fn = nn.MSELoss()\n",
    "optimizer = torch.optim.SGD(\n",
    "    params=model.parameters(), lr=0.01\n",
    ")"
   ]
  },
  {
   "cell_type": "code",
   "execution_count": 16,
   "id": "f4a1e973",
   "metadata": {},
   "outputs": [
    {
     "name": "stdout",
     "output_type": "stream",
     "text": [
      "Epoch:20|Train Loss:0.3078|Test Loss:0.2371\n",
      "Epoch:40|Train Loss:0.1712|Test Loss:0.1312\n",
      "Epoch:60|Train Loss:0.1024|Test Loss:0.0796\n",
      "Epoch:80|Train Loss:0.0656|Test Loss:0.0525\n",
      "Epoch:100|Train Loss:0.0445|Test Loss:0.0370\n",
      "Epoch:120|Train Loss:0.0315|Test Loss:0.0272\n",
      "Epoch:140|Train Loss:0.0230|Test Loss:0.0205\n",
      "Epoch:160|Train Loss:0.0171|Test Loss:0.0156\n",
      "Epoch:180|Train Loss:0.0129|Test Loss:0.0120\n",
      "Epoch:200|Train Loss:0.0097|Test Loss:0.0092\n",
      "Epoch:220|Train Loss:0.0074|Test Loss:0.0071\n",
      "Epoch:240|Train Loss:0.0056|Test Loss:0.0055\n",
      "Epoch:260|Train Loss:0.0043|Test Loss:0.0042\n",
      "Epoch:280|Train Loss:0.0033|Test Loss:0.0032\n",
      "Epoch:300|Train Loss:0.0025|Test Loss:0.0025\n",
      "Epoch:320|Train Loss:0.0019|Test Loss:0.0019\n",
      "Epoch:340|Train Loss:0.0015|Test Loss:0.0015\n",
      "Epoch:360|Train Loss:0.0011|Test Loss:0.0011\n",
      "Epoch:380|Train Loss:0.0009|Test Loss:0.0009\n",
      "Epoch:400|Train Loss:0.0007|Test Loss:0.0007\n",
      "Epoch:420|Train Loss:0.0005|Test Loss:0.0005\n",
      "Epoch:440|Train Loss:0.0004|Test Loss:0.0004\n",
      "Epoch:460|Train Loss:0.0003|Test Loss:0.0003\n",
      "Epoch:480|Train Loss:0.0002|Test Loss:0.0002\n",
      "Epoch:500|Train Loss:0.0002|Test Loss:0.0002\n",
      "Epoch:520|Train Loss:0.0001|Test Loss:0.0001\n",
      "Epoch:540|Train Loss:0.0001|Test Loss:0.0001\n",
      "Epoch:560|Train Loss:0.0001|Test Loss:0.0001\n",
      "Epoch:580|Train Loss:0.0001|Test Loss:0.0001\n",
      "Epoch:600|Train Loss:0.0000|Test Loss:0.0000\n",
      "Epoch:620|Train Loss:0.0000|Test Loss:0.0000\n",
      "Epoch:640|Train Loss:0.0000|Test Loss:0.0000\n",
      "Epoch:660|Train Loss:0.0000|Test Loss:0.0000\n",
      "Epoch:680|Train Loss:0.0000|Test Loss:0.0000\n",
      "Epoch:700|Train Loss:0.0000|Test Loss:0.0000\n",
      "Epoch:720|Train Loss:0.0000|Test Loss:0.0000\n",
      "Epoch:740|Train Loss:0.0000|Test Loss:0.0000\n",
      "Epoch:760|Train Loss:0.0000|Test Loss:0.0000\n",
      "Epoch:780|Train Loss:0.0000|Test Loss:0.0000\n",
      "Epoch:800|Train Loss:0.0000|Test Loss:0.0000\n",
      "Epoch:820|Train Loss:0.0000|Test Loss:0.0000\n",
      "Epoch:840|Train Loss:0.0000|Test Loss:0.0000\n",
      "Epoch:860|Train Loss:0.0000|Test Loss:0.0000\n",
      "Epoch:880|Train Loss:0.0000|Test Loss:0.0000\n",
      "Epoch:900|Train Loss:0.0000|Test Loss:0.0000\n",
      "Epoch:920|Train Loss:0.0000|Test Loss:0.0000\n",
      "Epoch:940|Train Loss:0.0000|Test Loss:0.0000\n",
      "Epoch:960|Train Loss:0.0000|Test Loss:0.0000\n",
      "Epoch:980|Train Loss:0.0000|Test Loss:0.0000\n",
      "Epoch:1000|Train Loss:0.0000|Test Loss:0.0000\n"
     ]
    }
   ],
   "source": [
    "# Training Loop\n",
    "epochs = 1000\n",
    "X_train, y_train = X_train.to(device), y_train.to(device)\n",
    "X_test, y_test = X_test.to(device), y_test.to(device)\n",
    "model.to(device)\n",
    "trainLossList = []\n",
    "testLossList = []\n",
    "for epoch in range(epochs):\n",
    "    ### Training\n",
    "    model.train()\n",
    "    # Forward Pass\n",
    "    train_preds = model(X_train)\n",
    "    # Compute Trainig Loss\n",
    "    loss = loss_fn(y_train, train_preds)\n",
    "    # Zero Grad Optimizer\n",
    "    optimizer.zero_grad()\n",
    "    # Backpropagate\n",
    "    loss.backward()\n",
    "    # Step the Optimizer\n",
    "    optimizer.step()\n",
    "    ### Testing\n",
    "    model.eval()\n",
    "    with torch.inference_mode():\n",
    "        test_preds = model(X_test)\n",
    "        test_loss = loss_fn(y_test, test_preds)\n",
    "    if (epoch+1)%20 == 0:\n",
    "        print(f\"Epoch:{epoch+1}|Train Loss:{loss:.4f}|Test Loss:{test_loss:.4f}\")\n",
    "    trainLossList.append(loss.cpu().detach().numpy())\n",
    "    testLossList.append(test_loss.cpu().detach().numpy())"
   ]
  },
  {
   "cell_type": "code",
   "execution_count": 17,
   "id": "4297ac1d",
   "metadata": {},
   "outputs": [],
   "source": [
    "with torch.inference_mode():\n",
    "    y_preds = model(X_test)"
   ]
  },
  {
   "cell_type": "code",
   "execution_count": 18,
   "id": "0b8ce2e4",
   "metadata": {},
   "outputs": [],
   "source": [
    "def plot(X_train=X_train,y_train=y_train,X_test=X_test,y_test=y_test,y_preds=None):\n",
    "    plt.figure(figsize=(8,6))\n",
    "    plt.scatter(X_train.cpu(), y_train.cpu(), c='b', s=10, label='Training Data')\n",
    "    plt.scatter(X_test.cpu(), y_test.cpu(), c='r', s=10, label='Testing Data')\n",
    "    if y_preds is not None:\n",
    "        plt.scatter(X_test.cpu(), y_preds.cpu(), c='g', s=10, label='Predicted Data')\n",
    "    plt.xlabel(\"X\")\n",
    "    plt.ylabel(\"y\")\n",
    "    plt.title(\"X vs y\")\n",
    "    plt.legend()\n",
    "    plt.show();"
   ]
  },
  {
   "cell_type": "code",
   "execution_count": 19,
   "id": "60123bb9",
   "metadata": {},
   "outputs": [
    {
     "data": {
      "image/png": "[encoded data removed]",
      "text/plain": [
       "<Figure size 800x600 with 1 Axes>"
      ]
     },
     "metadata": {},
     "output_type": "display_data"
    }
   ],
   "source": [
    "plot(y_preds=y_preds)"
   ]
  },
  {
   "cell_type": "code",
   "execution_count": 20,
   "id": "2fee4510",
   "metadata": {},
   "outputs": [
    {
     "data": {
      "image/png": "[encoded data removed]",
      "text/plain": [
       "<Figure size 640x480 with 1 Axes>"
      ]
     },
     "metadata": {},
     "output_type": "display_data"
    }
   ],
   "source": [
    "# plot the Epochs vs Loss plot\n",
    "plt.plot(range(epochs), trainLossList, label=\"Training Loss\")\n",
    "plt.plot(range(epochs), testLossList, label=\"Testing Loss\")\n",
    "plt.xlabel(\"Epochs\")\n",
    "plt.ylabel(\"Loss\")\n",
    "plt.title(\"Epochs vs Loss\")\n",
    "plt.legend()\n",
    "plt.show()"
   ]
  },
  {
   "cell_type": "code",
   "execution_count": 21,
   "id": "d791f73c",
   "metadata": {},
   "outputs": [
    {
     "name": "stdout",
     "output_type": "stream",
     "text": [
      "[1.3484353]\n"
     ]
    }
   ],
   "source": [
    "# 0.580000000000001\t1.348881\n",
    "test_sample = torch.tensor([0.580000000000001]).to(device)\n",
    "ans = model(test_sample)\n",
    "print(ans.cpu().detach().numpy())"
   ]
  }
 ],
 "metadata": {
  "kernelspec": {
   "display_name": "AI",
   "language": "python",
   "name": "python3"
  },
  "language_info": {
   "codemirror_mode": {
    "name": "ipython",
    "version": 3
   },
   "file_extension": ".py",
   "mimetype": "text/x-python",
   "name": "python",
   "nbconvert_exporter": "python",
   "pygments_lexer": "ipython3",
   "version": "3.12.4"
  }
 },
 "nbformat": 4,
 "nbformat_minor": 5
}
